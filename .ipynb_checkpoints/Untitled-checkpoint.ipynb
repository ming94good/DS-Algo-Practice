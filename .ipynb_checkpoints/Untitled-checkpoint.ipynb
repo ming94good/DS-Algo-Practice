{
 "cells": [
  {
   "cell_type": "code",
   "execution_count": 257,
   "metadata": {},
   "outputs": [],
   "source": [
    "def check(sequence, start, end):\n",
    "    if (start<end):        #recursion end factor\n",
    "        root=sequence[end] #postorder: LRD, therefore rightmost value is the root\n",
    "        index=-1           #seperate index initiate\n",
    "        for i in range(start,end):  #check left subtree\n",
    "            if (sequence[i] > root):\n",
    "                index=i             #get seperate index\n",
    "                break\n",
    "        if(index!=-1):   #if seperate index is not changed, then there is no right subtree\n",
    "            for i in range(index,end):      #check right subtree\n",
    "                if (sequence[i] < root): \n",
    "                    return False\n",
    "        #Recursion\n",
    "        left_subtree=check(sequence, start, index-1)\n",
    "        right_subtree=check(sequence, index, end-1)\n",
    "        if (left_subtree==False or right_subtree==False):\n",
    "            return False\n",
    "        else:\n",
    "            return True"
   ]
  },
  {
   "cell_type": "code",
   "execution_count": 261,
   "metadata": {},
   "outputs": [
    {
     "data": {
      "text/plain": [
       "True"
      ]
     },
     "execution_count": 261,
     "metadata": {},
     "output_type": "execute_result"
    }
   ],
   "source": [
    "sequence2=[1,3,6,11,7,5,13,15,24,21,14,12]\n",
    "check(sequence2,0,len(sequence2)-1)"
   ]
  },
  {
   "cell_type": "code",
   "execution_count": 263,
   "metadata": {},
   "outputs": [
    {
     "data": {
      "text/plain": [
       "False"
      ]
     },
     "execution_count": 263,
     "metadata": {},
     "output_type": "execute_result"
    }
   ],
   "source": [
    "sequence1=[1,11,6,3,7,5,13,15,24,21,14,12]\n",
    "check(sequence1,0,len(sequence1)-1)"
   ]
  }
 ],
 "metadata": {
  "kernelspec": {
   "display_name": "Python 3",
   "language": "python",
   "name": "python3"
  },
  "language_info": {
   "codemirror_mode": {
    "name": "ipython",
    "version": 3
   },
   "file_extension": ".py",
   "mimetype": "text/x-python",
   "name": "python",
   "nbconvert_exporter": "python",
   "pygments_lexer": "ipython3",
   "version": "3.6.8"
  }
 },
 "nbformat": 4,
 "nbformat_minor": 2
}
